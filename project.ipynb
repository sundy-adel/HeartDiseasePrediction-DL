{
 "cells": [
  {
   "cell_type": "markdown",
   "id": "dd0f1b75",
   "metadata": {},
   "source": [
    "# Import data :"
   ]
  },
  {
   "cell_type": "code",
   "execution_count": 1,
   "id": "9e7609f3",
   "metadata": {},
   "outputs": [],
   "source": [
    "import numpy as np \n",
    "import pandas as pd\n",
    "import seaborn as sns\n",
    "import matplotlib.pyplot as plt"
   ]
  },
  {
   "cell_type": "code",
   "execution_count": 2,
   "id": "5e573163",
   "metadata": {},
   "outputs": [],
   "source": [
    "data=pd.read_csv(\"heart_failure_clinical_records_dataset.csv\", delimiter=',', encoding = \"utf-8\" )"
   ]
  },
  {
   "cell_type": "code",
   "execution_count": 3,
   "id": "026b1792",
   "metadata": {},
   "outputs": [
    {
     "data": {
      "text/html": [
       "<div>\n",
       "<style scoped>\n",
       "    .dataframe tbody tr th:only-of-type {\n",
       "        vertical-align: middle;\n",
       "    }\n",
       "\n",
       "    .dataframe tbody tr th {\n",
       "        vertical-align: top;\n",
       "    }\n",
       "\n",
       "    .dataframe thead th {\n",
       "        text-align: right;\n",
       "    }\n",
       "</style>\n",
       "<table border=\"1\" class=\"dataframe\">\n",
       "  <thead>\n",
       "    <tr style=\"text-align: right;\">\n",
       "      <th></th>\n",
       "      <th>age</th>\n",
       "      <th>anaemia</th>\n",
       "      <th>creatinine_phosphokinase</th>\n",
       "      <th>diabetes</th>\n",
       "      <th>ejection_fraction</th>\n",
       "      <th>high_blood_pressure</th>\n",
       "      <th>platelets</th>\n",
       "      <th>serum_creatinine</th>\n",
       "      <th>serum_sodium</th>\n",
       "      <th>sex</th>\n",
       "      <th>smoking</th>\n",
       "      <th>time</th>\n",
       "      <th>DEATH_EVENT</th>\n",
       "    </tr>\n",
       "  </thead>\n",
       "  <tbody>\n",
       "    <tr>\n",
       "      <th>0</th>\n",
       "      <td>75.0</td>\n",
       "      <td>0</td>\n",
       "      <td>582</td>\n",
       "      <td>0</td>\n",
       "      <td>20</td>\n",
       "      <td>1</td>\n",
       "      <td>265000.00</td>\n",
       "      <td>1.9</td>\n",
       "      <td>130</td>\n",
       "      <td>1</td>\n",
       "      <td>0</td>\n",
       "      <td>4</td>\n",
       "      <td>1</td>\n",
       "    </tr>\n",
       "    <tr>\n",
       "      <th>1</th>\n",
       "      <td>55.0</td>\n",
       "      <td>0</td>\n",
       "      <td>7861</td>\n",
       "      <td>0</td>\n",
       "      <td>38</td>\n",
       "      <td>0</td>\n",
       "      <td>263358.03</td>\n",
       "      <td>1.1</td>\n",
       "      <td>136</td>\n",
       "      <td>1</td>\n",
       "      <td>0</td>\n",
       "      <td>6</td>\n",
       "      <td>1</td>\n",
       "    </tr>\n",
       "    <tr>\n",
       "      <th>2</th>\n",
       "      <td>65.0</td>\n",
       "      <td>0</td>\n",
       "      <td>146</td>\n",
       "      <td>0</td>\n",
       "      <td>20</td>\n",
       "      <td>0</td>\n",
       "      <td>162000.00</td>\n",
       "      <td>1.3</td>\n",
       "      <td>129</td>\n",
       "      <td>1</td>\n",
       "      <td>1</td>\n",
       "      <td>7</td>\n",
       "      <td>1</td>\n",
       "    </tr>\n",
       "    <tr>\n",
       "      <th>3</th>\n",
       "      <td>50.0</td>\n",
       "      <td>1</td>\n",
       "      <td>111</td>\n",
       "      <td>0</td>\n",
       "      <td>20</td>\n",
       "      <td>0</td>\n",
       "      <td>210000.00</td>\n",
       "      <td>1.9</td>\n",
       "      <td>137</td>\n",
       "      <td>1</td>\n",
       "      <td>0</td>\n",
       "      <td>7</td>\n",
       "      <td>1</td>\n",
       "    </tr>\n",
       "    <tr>\n",
       "      <th>4</th>\n",
       "      <td>65.0</td>\n",
       "      <td>1</td>\n",
       "      <td>160</td>\n",
       "      <td>1</td>\n",
       "      <td>20</td>\n",
       "      <td>0</td>\n",
       "      <td>327000.00</td>\n",
       "      <td>2.7</td>\n",
       "      <td>116</td>\n",
       "      <td>0</td>\n",
       "      <td>0</td>\n",
       "      <td>8</td>\n",
       "      <td>1</td>\n",
       "    </tr>\n",
       "  </tbody>\n",
       "</table>\n",
       "</div>"
      ],
      "text/plain": [
       "    age  anaemia  creatinine_phosphokinase  diabetes  ejection_fraction  \\\n",
       "0  75.0        0                       582         0                 20   \n",
       "1  55.0        0                      7861         0                 38   \n",
       "2  65.0        0                       146         0                 20   \n",
       "3  50.0        1                       111         0                 20   \n",
       "4  65.0        1                       160         1                 20   \n",
       "\n",
       "   high_blood_pressure  platelets  serum_creatinine  serum_sodium  sex  \\\n",
       "0                    1  265000.00               1.9           130    1   \n",
       "1                    0  263358.03               1.1           136    1   \n",
       "2                    0  162000.00               1.3           129    1   \n",
       "3                    0  210000.00               1.9           137    1   \n",
       "4                    0  327000.00               2.7           116    0   \n",
       "\n",
       "   smoking  time  DEATH_EVENT  \n",
       "0        0     4            1  \n",
       "1        0     6            1  \n",
       "2        1     7            1  \n",
       "3        0     7            1  \n",
       "4        0     8            1  "
      ]
     },
     "execution_count": 3,
     "metadata": {},
     "output_type": "execute_result"
    }
   ],
   "source": [
    "data.head()"
   ]
  },
  {
   "cell_type": "code",
   "execution_count": 4,
   "id": "478f5bc1",
   "metadata": {},
   "outputs": [
    {
     "name": "stdout",
     "output_type": "stream",
     "text": [
      "<class 'pandas.core.frame.DataFrame'>\n",
      "RangeIndex: 299 entries, 0 to 298\n",
      "Data columns (total 13 columns):\n",
      " #   Column                    Non-Null Count  Dtype  \n",
      "---  ------                    --------------  -----  \n",
      " 0   age                       299 non-null    float64\n",
      " 1   anaemia                   299 non-null    int64  \n",
      " 2   creatinine_phosphokinase  299 non-null    int64  \n",
      " 3   diabetes                  299 non-null    int64  \n",
      " 4   ejection_fraction         299 non-null    int64  \n",
      " 5   high_blood_pressure       299 non-null    int64  \n",
      " 6   platelets                 299 non-null    float64\n",
      " 7   serum_creatinine          299 non-null    float64\n",
      " 8   serum_sodium              299 non-null    int64  \n",
      " 9   sex                       299 non-null    int64  \n",
      " 10  smoking                   299 non-null    int64  \n",
      " 11  time                      299 non-null    int64  \n",
      " 12  DEATH_EVENT               299 non-null    int64  \n",
      "dtypes: float64(3), int64(10)\n",
      "memory usage: 30.5 KB\n"
     ]
    }
   ],
   "source": [
    "data.info()"
   ]
  },
  {
   "cell_type": "code",
   "execution_count": 5,
   "id": "2c3bd287",
   "metadata": {},
   "outputs": [
    {
     "data": {
      "text/html": [
       "<div>\n",
       "<style scoped>\n",
       "    .dataframe tbody tr th:only-of-type {\n",
       "        vertical-align: middle;\n",
       "    }\n",
       "\n",
       "    .dataframe tbody tr th {\n",
       "        vertical-align: top;\n",
       "    }\n",
       "\n",
       "    .dataframe thead th {\n",
       "        text-align: right;\n",
       "    }\n",
       "</style>\n",
       "<table border=\"1\" class=\"dataframe\">\n",
       "  <thead>\n",
       "    <tr style=\"text-align: right;\">\n",
       "      <th></th>\n",
       "      <th>age</th>\n",
       "      <th>anaemia</th>\n",
       "      <th>creatinine_phosphokinase</th>\n",
       "      <th>diabetes</th>\n",
       "      <th>ejection_fraction</th>\n",
       "      <th>high_blood_pressure</th>\n",
       "      <th>platelets</th>\n",
       "      <th>serum_creatinine</th>\n",
       "      <th>serum_sodium</th>\n",
       "      <th>sex</th>\n",
       "      <th>smoking</th>\n",
       "      <th>time</th>\n",
       "      <th>DEATH_EVENT</th>\n",
       "    </tr>\n",
       "  </thead>\n",
       "  <tbody>\n",
       "    <tr>\n",
       "      <th>count</th>\n",
       "      <td>299.000000</td>\n",
       "      <td>299.000000</td>\n",
       "      <td>299.000000</td>\n",
       "      <td>299.000000</td>\n",
       "      <td>299.000000</td>\n",
       "      <td>299.000000</td>\n",
       "      <td>299.000000</td>\n",
       "      <td>299.00000</td>\n",
       "      <td>299.000000</td>\n",
       "      <td>299.000000</td>\n",
       "      <td>299.00000</td>\n",
       "      <td>299.000000</td>\n",
       "      <td>299.00000</td>\n",
       "    </tr>\n",
       "    <tr>\n",
       "      <th>mean</th>\n",
       "      <td>60.833893</td>\n",
       "      <td>0.431438</td>\n",
       "      <td>581.839465</td>\n",
       "      <td>0.418060</td>\n",
       "      <td>38.083612</td>\n",
       "      <td>0.351171</td>\n",
       "      <td>263358.029264</td>\n",
       "      <td>1.39388</td>\n",
       "      <td>136.625418</td>\n",
       "      <td>0.648829</td>\n",
       "      <td>0.32107</td>\n",
       "      <td>130.260870</td>\n",
       "      <td>0.32107</td>\n",
       "    </tr>\n",
       "    <tr>\n",
       "      <th>std</th>\n",
       "      <td>11.894809</td>\n",
       "      <td>0.496107</td>\n",
       "      <td>970.287881</td>\n",
       "      <td>0.494067</td>\n",
       "      <td>11.834841</td>\n",
       "      <td>0.478136</td>\n",
       "      <td>97804.236869</td>\n",
       "      <td>1.03451</td>\n",
       "      <td>4.412477</td>\n",
       "      <td>0.478136</td>\n",
       "      <td>0.46767</td>\n",
       "      <td>77.614208</td>\n",
       "      <td>0.46767</td>\n",
       "    </tr>\n",
       "    <tr>\n",
       "      <th>min</th>\n",
       "      <td>40.000000</td>\n",
       "      <td>0.000000</td>\n",
       "      <td>23.000000</td>\n",
       "      <td>0.000000</td>\n",
       "      <td>14.000000</td>\n",
       "      <td>0.000000</td>\n",
       "      <td>25100.000000</td>\n",
       "      <td>0.50000</td>\n",
       "      <td>113.000000</td>\n",
       "      <td>0.000000</td>\n",
       "      <td>0.00000</td>\n",
       "      <td>4.000000</td>\n",
       "      <td>0.00000</td>\n",
       "    </tr>\n",
       "    <tr>\n",
       "      <th>25%</th>\n",
       "      <td>51.000000</td>\n",
       "      <td>0.000000</td>\n",
       "      <td>116.500000</td>\n",
       "      <td>0.000000</td>\n",
       "      <td>30.000000</td>\n",
       "      <td>0.000000</td>\n",
       "      <td>212500.000000</td>\n",
       "      <td>0.90000</td>\n",
       "      <td>134.000000</td>\n",
       "      <td>0.000000</td>\n",
       "      <td>0.00000</td>\n",
       "      <td>73.000000</td>\n",
       "      <td>0.00000</td>\n",
       "    </tr>\n",
       "    <tr>\n",
       "      <th>50%</th>\n",
       "      <td>60.000000</td>\n",
       "      <td>0.000000</td>\n",
       "      <td>250.000000</td>\n",
       "      <td>0.000000</td>\n",
       "      <td>38.000000</td>\n",
       "      <td>0.000000</td>\n",
       "      <td>262000.000000</td>\n",
       "      <td>1.10000</td>\n",
       "      <td>137.000000</td>\n",
       "      <td>1.000000</td>\n",
       "      <td>0.00000</td>\n",
       "      <td>115.000000</td>\n",
       "      <td>0.00000</td>\n",
       "    </tr>\n",
       "    <tr>\n",
       "      <th>75%</th>\n",
       "      <td>70.000000</td>\n",
       "      <td>1.000000</td>\n",
       "      <td>582.000000</td>\n",
       "      <td>1.000000</td>\n",
       "      <td>45.000000</td>\n",
       "      <td>1.000000</td>\n",
       "      <td>303500.000000</td>\n",
       "      <td>1.40000</td>\n",
       "      <td>140.000000</td>\n",
       "      <td>1.000000</td>\n",
       "      <td>1.00000</td>\n",
       "      <td>203.000000</td>\n",
       "      <td>1.00000</td>\n",
       "    </tr>\n",
       "    <tr>\n",
       "      <th>max</th>\n",
       "      <td>95.000000</td>\n",
       "      <td>1.000000</td>\n",
       "      <td>7861.000000</td>\n",
       "      <td>1.000000</td>\n",
       "      <td>80.000000</td>\n",
       "      <td>1.000000</td>\n",
       "      <td>850000.000000</td>\n",
       "      <td>9.40000</td>\n",
       "      <td>148.000000</td>\n",
       "      <td>1.000000</td>\n",
       "      <td>1.00000</td>\n",
       "      <td>285.000000</td>\n",
       "      <td>1.00000</td>\n",
       "    </tr>\n",
       "  </tbody>\n",
       "</table>\n",
       "</div>"
      ],
      "text/plain": [
       "              age     anaemia  creatinine_phosphokinase    diabetes  \\\n",
       "count  299.000000  299.000000                299.000000  299.000000   \n",
       "mean    60.833893    0.431438                581.839465    0.418060   \n",
       "std     11.894809    0.496107                970.287881    0.494067   \n",
       "min     40.000000    0.000000                 23.000000    0.000000   \n",
       "25%     51.000000    0.000000                116.500000    0.000000   \n",
       "50%     60.000000    0.000000                250.000000    0.000000   \n",
       "75%     70.000000    1.000000                582.000000    1.000000   \n",
       "max     95.000000    1.000000               7861.000000    1.000000   \n",
       "\n",
       "       ejection_fraction  high_blood_pressure      platelets  \\\n",
       "count         299.000000           299.000000     299.000000   \n",
       "mean           38.083612             0.351171  263358.029264   \n",
       "std            11.834841             0.478136   97804.236869   \n",
       "min            14.000000             0.000000   25100.000000   \n",
       "25%            30.000000             0.000000  212500.000000   \n",
       "50%            38.000000             0.000000  262000.000000   \n",
       "75%            45.000000             1.000000  303500.000000   \n",
       "max            80.000000             1.000000  850000.000000   \n",
       "\n",
       "       serum_creatinine  serum_sodium         sex    smoking        time  \\\n",
       "count         299.00000    299.000000  299.000000  299.00000  299.000000   \n",
       "mean            1.39388    136.625418    0.648829    0.32107  130.260870   \n",
       "std             1.03451      4.412477    0.478136    0.46767   77.614208   \n",
       "min             0.50000    113.000000    0.000000    0.00000    4.000000   \n",
       "25%             0.90000    134.000000    0.000000    0.00000   73.000000   \n",
       "50%             1.10000    137.000000    1.000000    0.00000  115.000000   \n",
       "75%             1.40000    140.000000    1.000000    1.00000  203.000000   \n",
       "max             9.40000    148.000000    1.000000    1.00000  285.000000   \n",
       "\n",
       "       DEATH_EVENT  \n",
       "count    299.00000  \n",
       "mean       0.32107  \n",
       "std        0.46767  \n",
       "min        0.00000  \n",
       "25%        0.00000  \n",
       "50%        0.00000  \n",
       "75%        1.00000  \n",
       "max        1.00000  "
      ]
     },
     "execution_count": 5,
     "metadata": {},
     "output_type": "execute_result"
    }
   ],
   "source": [
    "data.describe()"
   ]
  },
  {
   "cell_type": "code",
   "execution_count": 6,
   "id": "7322f45d",
   "metadata": {},
   "outputs": [
    {
     "data": {
      "text/plain": [
       "<AxesSubplot:xlabel='DEATH_EVENT', ylabel='count'>"
      ]
     },
     "execution_count": 6,
     "metadata": {},
     "output_type": "execute_result"
    },
    {
     "data": {
      "image/png": "[encoded data removed]",
      "text/plain": [
       "<Figure size 360x360 with 1 Axes>"
      ]
     },
     "metadata": {
      "needs_background": "light"
     },
     "output_type": "display_data"
    }
   ],
   "source": [
    "plt.figure(figsize=(5,5))\n",
    "sns.countplot(x= data[\"DEATH_EVENT\"], palette= 'Greens')"
   ]
  },
  {
   "cell_type": "code",
   "execution_count": 7,
   "id": "cfc65ad1",
   "metadata": {},
   "outputs": [],
   "source": [
    "corr = data.corr()"
   ]
  },
  {
   "cell_type": "code",
   "execution_count": 8,
   "id": "2c3d38d7",
   "metadata": {},
   "outputs": [
    {
     "data": {
      "image/png": "[encoded data removed]",
      "text/plain": [
       "<Figure size 720x720 with 2 Axes>"
      ]
     },
     "metadata": {
      "needs_background": "light"
     },
     "output_type": "display_data"
    }
   ],
   "source": [
    "plt.figure(figsize=(10,10))\n",
    "sns.heatmap(data.corr(), annot=True, cmap='RdYlGn')\n",
    "plt.title(\"Correlation Heatmap\");"
   ]
  },
  {
   "cell_type": "markdown",
   "id": "795ccf46",
   "metadata": {},
   "source": [
    "# Data preprocessing :"
   ]
  },
  {
   "cell_type": "code",
   "execution_count": 9,
   "id": "d584d9a0",
   "metadata": {},
   "outputs": [
    {
     "data": {
      "text/plain": [
       "0"
      ]
     },
     "execution_count": 9,
     "metadata": {},
     "output_type": "execute_result"
    }
   ],
   "source": [
    "#Checking for Duplicates\n",
    "data.duplicated().sum()"
   ]
  },
  {
   "cell_type": "code",
   "execution_count": 10,
   "id": "e36f2649",
   "metadata": {},
   "outputs": [
    {
     "data": {
      "text/plain": [
       "age                         0\n",
       "anaemia                     0\n",
       "creatinine_phosphokinase    0\n",
       "diabetes                    0\n",
       "ejection_fraction           0\n",
       "high_blood_pressure         0\n",
       "platelets                   0\n",
       "serum_creatinine            0\n",
       "serum_sodium                0\n",
       "sex                         0\n",
       "smoking                     0\n",
       "time                        0\n",
       "DEATH_EVENT                 0\n",
       "dtype: int64"
      ]
     },
     "execution_count": 10,
     "metadata": {},
     "output_type": "execute_result"
    }
   ],
   "source": [
    "#Checking for Nulls\n",
    "data.isnull().sum()"
   ]
  },
  {
   "cell_type": "markdown",
   "id": "5b79852e",
   "metadata": {},
   "source": [
    "Handling outliers"
   ]
  },
  {
   "cell_type": "code",
   "execution_count": 11,
   "id": "9ce4d231",
   "metadata": {},
   "outputs": [
    {
     "data": {
      "text/plain": [
       "<AxesSubplot:xlabel='ejection_fraction'>"
      ]
     },
     "execution_count": 11,
     "metadata": {},
     "output_type": "execute_result"
    },
    {
     "data": {
      "image/png": "[encoded data removed]",
      "text/plain": [
       "<Figure size 360x360 with 1 Axes>"
      ]
     },
     "metadata": {
      "needs_background": "light"
     },
     "output_type": "display_data"
    }
   ],
   "source": [
    "plt.figure(figsize=(5,5))\n",
    "sns.boxplot(x = data.ejection_fraction, palette = \"Greens\")"
   ]
  },
  {
   "cell_type": "code",
   "execution_count": 12,
   "id": "452b2b84",
   "metadata": {},
   "outputs": [
    {
     "data": {
      "text/plain": [
       "(3, 13)"
      ]
     },
     "execution_count": 12,
     "metadata": {},
     "output_type": "execute_result"
    }
   ],
   "source": [
    "x=data[data['ejection_fraction']>=65]\n",
    "x.shape"
   ]
  },
  {
   "cell_type": "code",
   "execution_count": 13,
   "id": "85e817c1",
   "metadata": {},
   "outputs": [],
   "source": [
    "data=data[data['ejection_fraction']<65]"
   ]
  },
  {
   "cell_type": "code",
   "execution_count": 14,
   "id": "de7f5f36",
   "metadata": {},
   "outputs": [
    {
     "data": {
      "text/plain": [
       "<AxesSubplot:xlabel='serum_creatinine'>"
      ]
     },
     "execution_count": 14,
     "metadata": {},
     "output_type": "execute_result"
    },
    {
     "data": {
      "image/png": "[encoded data removed]",
      "text/plain": [
       "<Figure size 360x360 with 1 Axes>"
      ]
     },
     "metadata": {
      "needs_background": "light"
     },
     "output_type": "display_data"
    }
   ],
   "source": [
    "plt.figure(figsize=(5,5))\n",
    "sns.boxplot(x = data.serum_creatinine, palette = \"Greens\")"
   ]
  },
  {
   "cell_type": "code",
   "execution_count": 15,
   "id": "c0428221",
   "metadata": {},
   "outputs": [
    {
     "data": {
      "text/plain": [
       "<AxesSubplot:xlabel='time'>"
      ]
     },
     "execution_count": 15,
     "metadata": {},
     "output_type": "execute_result"
    },
    {
     "data": {
      "image/png": "[encoded data removed]",
      "text/plain": [
       "<Figure size 360x360 with 1 Axes>"
      ]
     },
     "metadata": {
      "needs_background": "light"
     },
     "output_type": "display_data"
    }
   ],
   "source": [
    "plt.figure(figsize=(5,5))\n",
    "sns.boxplot(x = data.time, palette = \"Greens\")"
   ]
  },
  {
   "cell_type": "markdown",
   "id": "45f61f48",
   "metadata": {},
   "source": [
    "splitting"
   ]
  },
  {
   "cell_type": "code",
   "execution_count": 16,
   "id": "f9bfd8a5",
   "metadata": {},
   "outputs": [],
   "source": [
    "X=data.drop([\"DEATH_EVENT\"],axis=1)\n",
    "y=data[\"DEATH_EVENT\"]"
   ]
  },
  {
   "cell_type": "code",
   "execution_count": 17,
   "id": "c60e9b68",
   "metadata": {},
   "outputs": [
    {
     "name": "stdout",
     "output_type": "stream",
     "text": [
      "(222, 12)\n",
      "(74, 12)\n"
     ]
    }
   ],
   "source": [
    "from sklearn.model_selection import train_test_split\n",
    "\n",
    "#splitting\n",
    "X_train, X_test, y_train, y_test = train_test_split(X, y, test_size=0.25, random_state=42)\n",
    "print(X_train.shape)\n",
    "print(X_test.shape)"
   ]
  },
  {
   "cell_type": "code",
   "execution_count": 18,
   "id": "b0b1feae",
   "metadata": {},
   "outputs": [
    {
     "name": "stdout",
     "output_type": "stream",
     "text": [
      "<class 'pandas.core.frame.DataFrame'>\n",
      "Int64Index: 296 entries, 0 to 298\n",
      "Data columns (total 13 columns):\n",
      " #   Column                    Non-Null Count  Dtype  \n",
      "---  ------                    --------------  -----  \n",
      " 0   age                       296 non-null    float64\n",
      " 1   anaemia                   296 non-null    int64  \n",
      " 2   creatinine_phosphokinase  296 non-null    int64  \n",
      " 3   diabetes                  296 non-null    int64  \n",
      " 4   ejection_fraction         296 non-null    int64  \n",
      " 5   high_blood_pressure       296 non-null    int64  \n",
      " 6   platelets                 296 non-null    float64\n",
      " 7   serum_creatinine          296 non-null    float64\n",
      " 8   serum_sodium              296 non-null    int64  \n",
      " 9   sex                       296 non-null    int64  \n",
      " 10  smoking                   296 non-null    int64  \n",
      " 11  time                      296 non-null    int64  \n",
      " 12  DEATH_EVENT               296 non-null    int64  \n",
      "dtypes: float64(3), int64(10)\n",
      "memory usage: 32.4 KB\n"
     ]
    }
   ],
   "source": [
    "data.info()"
   ]
  },
  {
   "cell_type": "markdown",
   "id": "120d2213",
   "metadata": {},
   "source": [
    "Scaling data"
   ]
  },
  {
   "cell_type": "code",
   "execution_count": 19,
   "id": "b5291abd",
   "metadata": {},
   "outputs": [],
   "source": [
    "from sklearn.preprocessing import MinMaxScaler"
   ]
  },
  {
   "cell_type": "code",
   "execution_count": 20,
   "id": "1520368b",
   "metadata": {},
   "outputs": [],
   "source": [
    "scaler = MinMaxScaler()"
   ]
  },
  {
   "cell_type": "code",
   "execution_count": 21,
   "id": "99079a88",
   "metadata": {},
   "outputs": [
    {
     "data": {
      "text/plain": [
       "MinMaxScaler()"
      ]
     },
     "execution_count": 21,
     "metadata": {},
     "output_type": "execute_result"
    }
   ],
   "source": [
    "scaler.fit(X_train)"
   ]
  },
  {
   "cell_type": "code",
   "execution_count": 22,
   "id": "25f84a8e",
   "metadata": {},
   "outputs": [],
   "source": [
    "X_train = scaler.transform(X_train)\n",
    "X_test = scaler.transform(X_test)"
   ]
  },
  {
   "cell_type": "markdown",
   "id": "498aad95",
   "metadata": {},
   "source": [
    "# Build machine learning model :"
   ]
  },
  {
   "cell_type": "code",
   "execution_count": 23,
   "id": "f18e9685",
   "metadata": {},
   "outputs": [],
   "source": [
    "import tensorflow as tf\n",
    "from tensorflow.keras.models import Sequential\n",
    "from tensorflow.keras.layers import Dense, Activation,Dropout\n",
    "from tensorflow.keras import callbacks"
   ]
  },
  {
   "cell_type": "code",
   "execution_count": 24,
   "id": "6c246820",
   "metadata": {},
   "outputs": [],
   "source": [
    "# Adding layers \n",
    "model = Sequential()\n",
    "model.add(Dense(13, activation='relu')) \n",
    "model.add(Dropout(0.25))\n",
    "model.add(Dense(13, activation='relu')) \n",
    "model.add(Dropout(0.25))\n",
    "model.add(Dense(1, activation='sigmoid')) # Output layer"
   ]
  },
  {
   "cell_type": "code",
   "execution_count": 25,
   "id": "a5757173",
   "metadata": {},
   "outputs": [],
   "source": [
    "#Compiling the moodel \n",
    "model.compile(optimizer = 'adam', loss = 'binary_crossentropy', metrics = ['Accuracy'])"
   ]
  },
  {
   "cell_type": "markdown",
   "id": "ddd17c31",
   "metadata": {},
   "source": [
    "# Train the ML model :"
   ]
  },
  {
   "cell_type": "code",
   "execution_count": 26,
   "id": "b7c765f4",
   "metadata": {},
   "outputs": [],
   "source": [
    "earlystopping = callbacks.EarlyStopping(monitor='val_loss',mode='min',verbose=1,patience=20)"
   ]
  },
  {
   "cell_type": "code",
   "execution_count": 27,
   "id": "f79ce762",
   "metadata": {},
   "outputs": [
    {
     "name": "stdout",
     "output_type": "stream",
     "text": [
      "Epoch 1/150\n",
      "7/7 [==============================] - 4s 133ms/step - loss: 0.6777 - Accuracy: 0.5676 - val_loss: 0.6721 - val_Accuracy: 0.6757\n",
      "Epoch 2/150\n",
      "7/7 [==============================] - 0s 28ms/step - loss: 0.6716 - Accuracy: 0.6351 - val_loss: 0.6615 - val_Accuracy: 0.6757\n",
      "Epoch 3/150\n",
      "7/7 [==============================] - 0s 24ms/step - loss: 0.6416 - Accuracy: 0.6441 - val_loss: 0.6525 - val_Accuracy: 0.6622\n",
      "Epoch 4/150\n",
      "7/7 [==============================] - 0s 24ms/step - loss: 0.6494 - Accuracy: 0.6577 - val_loss: 0.6451 - val_Accuracy: 0.6622\n",
      "Epoch 5/150\n",
      "7/7 [==============================] - 0s 22ms/step - loss: 0.6389 - Accuracy: 0.6577 - val_loss: 0.6394 - val_Accuracy: 0.6622\n",
      "Epoch 6/150\n",
      "7/7 [==============================] - 0s 21ms/step - loss: 0.6257 - Accuracy: 0.7072 - val_loss: 0.6344 - val_Accuracy: 0.6622\n",
      "Epoch 7/150\n",
      "7/7 [==============================] - 0s 22ms/step - loss: 0.6183 - Accuracy: 0.6847 - val_loss: 0.6306 - val_Accuracy: 0.6622\n",
      "Epoch 8/150\n",
      "7/7 [==============================] - 0s 21ms/step - loss: 0.6100 - Accuracy: 0.6802 - val_loss: 0.6271 - val_Accuracy: 0.6622\n",
      "Epoch 9/150\n",
      "7/7 [==============================] - 0s 28ms/step - loss: 0.6092 - Accuracy: 0.6892 - val_loss: 0.6241 - val_Accuracy: 0.6622\n",
      "Epoch 10/150\n",
      "7/7 [==============================] - 0s 38ms/step - loss: 0.5981 - Accuracy: 0.6982 - val_loss: 0.6216 - val_Accuracy: 0.6622\n",
      "Epoch 11/150\n",
      "7/7 [==============================] - 0s 28ms/step - loss: 0.5998 - Accuracy: 0.6937 - val_loss: 0.6193 - val_Accuracy: 0.6622\n",
      "Epoch 12/150\n",
      "7/7 [==============================] - 0s 27ms/step - loss: 0.6182 - Accuracy: 0.6982 - val_loss: 0.6170 - val_Accuracy: 0.6622\n",
      "Epoch 13/150\n",
      "7/7 [==============================] - 0s 37ms/step - loss: 0.6114 - Accuracy: 0.6847 - val_loss: 0.6149 - val_Accuracy: 0.6622\n",
      "Epoch 14/150\n",
      "7/7 [==============================] - 0s 27ms/step - loss: 0.5947 - Accuracy: 0.6937 - val_loss: 0.6131 - val_Accuracy: 0.6622\n",
      "Epoch 15/150\n",
      "7/7 [==============================] - 0s 32ms/step - loss: 0.5920 - Accuracy: 0.6982 - val_loss: 0.6111 - val_Accuracy: 0.6622\n",
      "Epoch 16/150\n",
      "7/7 [==============================] - 0s 32ms/step - loss: 0.6018 - Accuracy: 0.6937 - val_loss: 0.6092 - val_Accuracy: 0.6622\n",
      "Epoch 17/150\n",
      "7/7 [==============================] - 0s 33ms/step - loss: 0.5875 - Accuracy: 0.6982 - val_loss: 0.6074 - val_Accuracy: 0.6622\n",
      "Epoch 18/150\n",
      "7/7 [==============================] - 0s 35ms/step - loss: 0.5873 - Accuracy: 0.6982 - val_loss: 0.6058 - val_Accuracy: 0.6622\n",
      "Epoch 19/150\n",
      "7/7 [==============================] - 0s 21ms/step - loss: 0.6031 - Accuracy: 0.6892 - val_loss: 0.6043 - val_Accuracy: 0.6622\n",
      "Epoch 20/150\n",
      "7/7 [==============================] - 0s 30ms/step - loss: 0.5951 - Accuracy: 0.6892 - val_loss: 0.6026 - val_Accuracy: 0.6622\n",
      "Epoch 21/150\n",
      "7/7 [==============================] - 0s 29ms/step - loss: 0.5728 - Accuracy: 0.6982 - val_loss: 0.6007 - val_Accuracy: 0.6622\n",
      "Epoch 22/150\n",
      "7/7 [==============================] - 0s 22ms/step - loss: 0.6026 - Accuracy: 0.6712 - val_loss: 0.5982 - val_Accuracy: 0.6622\n",
      "Epoch 23/150\n",
      "7/7 [==============================] - 0s 21ms/step - loss: 0.5914 - Accuracy: 0.6937 - val_loss: 0.5959 - val_Accuracy: 0.6622\n",
      "Epoch 24/150\n",
      "7/7 [==============================] - 0s 23ms/step - loss: 0.5793 - Accuracy: 0.7072 - val_loss: 0.5937 - val_Accuracy: 0.6622\n",
      "Epoch 25/150\n",
      "7/7 [==============================] - 0s 27ms/step - loss: 0.5752 - Accuracy: 0.6892 - val_loss: 0.5915 - val_Accuracy: 0.6622\n",
      "Epoch 26/150\n",
      "7/7 [==============================] - 0s 39ms/step - loss: 0.5872 - Accuracy: 0.6847 - val_loss: 0.5891 - val_Accuracy: 0.6622\n",
      "Epoch 27/150\n",
      "7/7 [==============================] - 0s 33ms/step - loss: 0.5798 - Accuracy: 0.7027 - val_loss: 0.5856 - val_Accuracy: 0.6622\n",
      "Epoch 28/150\n",
      "7/7 [==============================] - 0s 36ms/step - loss: 0.5731 - Accuracy: 0.6802 - val_loss: 0.5827 - val_Accuracy: 0.6622\n",
      "Epoch 29/150\n",
      "7/7 [==============================] - 0s 34ms/step - loss: 0.5543 - Accuracy: 0.6982 - val_loss: 0.5797 - val_Accuracy: 0.6622\n",
      "Epoch 30/150\n",
      "7/7 [==============================] - 0s 38ms/step - loss: 0.5528 - Accuracy: 0.7072 - val_loss: 0.5769 - val_Accuracy: 0.6622\n",
      "Epoch 31/150\n",
      "7/7 [==============================] - 0s 38ms/step - loss: 0.5700 - Accuracy: 0.7027 - val_loss: 0.5740 - val_Accuracy: 0.6622\n",
      "Epoch 32/150\n",
      "7/7 [==============================] - 0s 26ms/step - loss: 0.5816 - Accuracy: 0.7027 - val_loss: 0.5709 - val_Accuracy: 0.6622\n",
      "Epoch 33/150\n",
      "7/7 [==============================] - 0s 23ms/step - loss: 0.5598 - Accuracy: 0.6937 - val_loss: 0.5668 - val_Accuracy: 0.6622\n",
      "Epoch 34/150\n",
      "7/7 [==============================] - 0s 25ms/step - loss: 0.5657 - Accuracy: 0.6937 - val_loss: 0.5631 - val_Accuracy: 0.6622\n",
      "Epoch 35/150\n",
      "7/7 [==============================] - 0s 23ms/step - loss: 0.5486 - Accuracy: 0.7117 - val_loss: 0.5600 - val_Accuracy: 0.6622\n",
      "Epoch 36/150\n",
      "7/7 [==============================] - 0s 20ms/step - loss: 0.5775 - Accuracy: 0.7117 - val_loss: 0.5569 - val_Accuracy: 0.6622\n",
      "Epoch 37/150\n",
      "7/7 [==============================] - 0s 26ms/step - loss: 0.5417 - Accuracy: 0.7342 - val_loss: 0.5533 - val_Accuracy: 0.6757\n",
      "Epoch 38/150\n",
      "7/7 [==============================] - 0s 35ms/step - loss: 0.5462 - Accuracy: 0.7117 - val_loss: 0.5500 - val_Accuracy: 0.6892\n",
      "Epoch 39/150\n",
      "7/7 [==============================] - 0s 45ms/step - loss: 0.5587 - Accuracy: 0.7432 - val_loss: 0.5469 - val_Accuracy: 0.6892\n",
      "Epoch 40/150\n",
      "7/7 [==============================] - 0s 33ms/step - loss: 0.5339 - Accuracy: 0.7342 - val_loss: 0.5430 - val_Accuracy: 0.6892\n",
      "Epoch 41/150\n",
      "7/7 [==============================] - 0s 29ms/step - loss: 0.5321 - Accuracy: 0.7297 - val_loss: 0.5391 - val_Accuracy: 0.6892\n",
      "Epoch 42/150\n",
      "7/7 [==============================] - 0s 36ms/step - loss: 0.5572 - Accuracy: 0.7252 - val_loss: 0.5359 - val_Accuracy: 0.7027\n",
      "Epoch 43/150\n",
      "7/7 [==============================] - 0s 44ms/step - loss: 0.5225 - Accuracy: 0.7297 - val_loss: 0.5330 - val_Accuracy: 0.7027\n",
      "Epoch 44/150\n",
      "7/7 [==============================] - 0s 34ms/step - loss: 0.5504 - Accuracy: 0.7117 - val_loss: 0.5302 - val_Accuracy: 0.7027\n",
      "Epoch 45/150\n",
      "7/7 [==============================] - 0s 29ms/step - loss: 0.5299 - Accuracy: 0.7297 - val_loss: 0.5267 - val_Accuracy: 0.7162\n",
      "Epoch 46/150\n",
      "7/7 [==============================] - 0s 24ms/step - loss: 0.5158 - Accuracy: 0.7342 - val_loss: 0.5233 - val_Accuracy: 0.7432\n",
      "Epoch 47/150\n",
      "7/7 [==============================] - 0s 34ms/step - loss: 0.5375 - Accuracy: 0.7342 - val_loss: 0.5209 - val_Accuracy: 0.7432\n",
      "Epoch 48/150\n",
      "7/7 [==============================] - 0s 25ms/step - loss: 0.5290 - Accuracy: 0.7342 - val_loss: 0.5178 - val_Accuracy: 0.7432\n",
      "Epoch 49/150\n",
      "7/7 [==============================] - 0s 27ms/step - loss: 0.5281 - Accuracy: 0.7387 - val_loss: 0.5147 - val_Accuracy: 0.7432\n",
      "Epoch 50/150\n",
      "7/7 [==============================] - 0s 36ms/step - loss: 0.4897 - Accuracy: 0.7748 - val_loss: 0.5093 - val_Accuracy: 0.7432\n",
      "Epoch 51/150\n",
      "7/7 [==============================] - 0s 39ms/step - loss: 0.5113 - Accuracy: 0.7477 - val_loss: 0.5059 - val_Accuracy: 0.7297\n",
      "Epoch 52/150\n",
      "7/7 [==============================] - 0s 27ms/step - loss: 0.5011 - Accuracy: 0.7297 - val_loss: 0.5042 - val_Accuracy: 0.7432\n",
      "Epoch 53/150\n",
      "7/7 [==============================] - 0s 28ms/step - loss: 0.4841 - Accuracy: 0.7568 - val_loss: 0.5018 - val_Accuracy: 0.7432\n",
      "Epoch 54/150\n",
      "7/7 [==============================] - 0s 21ms/step - loss: 0.4998 - Accuracy: 0.7523 - val_loss: 0.4989 - val_Accuracy: 0.7297\n",
      "Epoch 55/150\n",
      "7/7 [==============================] - 0s 28ms/step - loss: 0.4787 - Accuracy: 0.7883 - val_loss: 0.4948 - val_Accuracy: 0.7297\n",
      "Epoch 56/150\n",
      "7/7 [==============================] - 0s 47ms/step - loss: 0.4861 - Accuracy: 0.7838 - val_loss: 0.4915 - val_Accuracy: 0.7432\n",
      "Epoch 57/150\n",
      "7/7 [==============================] - 0s 30ms/step - loss: 0.4741 - Accuracy: 0.7793 - val_loss: 0.4903 - val_Accuracy: 0.7432\n",
      "Epoch 58/150\n",
      "7/7 [==============================] - 0s 23ms/step - loss: 0.4886 - Accuracy: 0.7793 - val_loss: 0.4896 - val_Accuracy: 0.7432\n",
      "Epoch 59/150\n",
      "7/7 [==============================] - 0s 22ms/step - loss: 0.4809 - Accuracy: 0.7658 - val_loss: 0.4847 - val_Accuracy: 0.7568\n",
      "Epoch 60/150\n",
      "7/7 [==============================] - 0s 22ms/step - loss: 0.4757 - Accuracy: 0.7658 - val_loss: 0.4825 - val_Accuracy: 0.7568\n",
      "Epoch 61/150\n",
      "7/7 [==============================] - 0s 34ms/step - loss: 0.4680 - Accuracy: 0.7748 - val_loss: 0.4786 - val_Accuracy: 0.7838\n",
      "Epoch 62/150\n",
      "7/7 [==============================] - 0s 26ms/step - loss: 0.5025 - Accuracy: 0.7703 - val_loss: 0.4762 - val_Accuracy: 0.7973\n",
      "Epoch 63/150\n",
      "7/7 [==============================] - 0s 24ms/step - loss: 0.4640 - Accuracy: 0.7793 - val_loss: 0.4775 - val_Accuracy: 0.7568\n",
      "Epoch 64/150\n",
      "7/7 [==============================] - 0s 23ms/step - loss: 0.4846 - Accuracy: 0.7883 - val_loss: 0.4753 - val_Accuracy: 0.7973\n",
      "Epoch 65/150\n",
      "7/7 [==============================] - 0s 19ms/step - loss: 0.4700 - Accuracy: 0.7748 - val_loss: 0.4747 - val_Accuracy: 0.7703\n",
      "Epoch 66/150\n",
      "7/7 [==============================] - 0s 25ms/step - loss: 0.4914 - Accuracy: 0.8063 - val_loss: 0.4692 - val_Accuracy: 0.7973\n",
      "Epoch 67/150\n",
      "7/7 [==============================] - 0s 20ms/step - loss: 0.4539 - Accuracy: 0.7883 - val_loss: 0.4672 - val_Accuracy: 0.7973\n",
      "Epoch 68/150\n",
      "7/7 [==============================] - 0s 22ms/step - loss: 0.4497 - Accuracy: 0.8063 - val_loss: 0.4695 - val_Accuracy: 0.7838\n",
      "Epoch 69/150\n",
      "7/7 [==============================] - 0s 28ms/step - loss: 0.4712 - Accuracy: 0.8108 - val_loss: 0.4692 - val_Accuracy: 0.7838\n",
      "Epoch 70/150\n",
      "7/7 [==============================] - 0s 32ms/step - loss: 0.4800 - Accuracy: 0.7928 - val_loss: 0.4686 - val_Accuracy: 0.7838\n",
      "Epoch 71/150\n",
      "7/7 [==============================] - 0s 35ms/step - loss: 0.4890 - Accuracy: 0.7748 - val_loss: 0.4623 - val_Accuracy: 0.8108\n",
      "Epoch 72/150\n",
      "7/7 [==============================] - 0s 34ms/step - loss: 0.4673 - Accuracy: 0.7793 - val_loss: 0.4614 - val_Accuracy: 0.8108\n",
      "Epoch 73/150\n",
      "7/7 [==============================] - 0s 25ms/step - loss: 0.4325 - Accuracy: 0.7973 - val_loss: 0.4595 - val_Accuracy: 0.8108\n",
      "Epoch 74/150\n",
      "7/7 [==============================] - 0s 20ms/step - loss: 0.4298 - Accuracy: 0.8108 - val_loss: 0.4561 - val_Accuracy: 0.8108\n",
      "Epoch 75/150\n",
      "7/7 [==============================] - 0s 39ms/step - loss: 0.4230 - Accuracy: 0.8153 - val_loss: 0.4544 - val_Accuracy: 0.8108\n",
      "Epoch 76/150\n",
      "7/7 [==============================] - 0s 30ms/step - loss: 0.4797 - Accuracy: 0.7658 - val_loss: 0.4576 - val_Accuracy: 0.8108\n",
      "Epoch 77/150\n",
      "7/7 [==============================] - 0s 26ms/step - loss: 0.4377 - Accuracy: 0.8018 - val_loss: 0.4596 - val_Accuracy: 0.7973\n",
      "Epoch 78/150\n",
      "7/7 [==============================] - 0s 23ms/step - loss: 0.4371 - Accuracy: 0.7973 - val_loss: 0.4591 - val_Accuracy: 0.7973\n",
      "Epoch 79/150\n",
      "7/7 [==============================] - 0s 35ms/step - loss: 0.4508 - Accuracy: 0.7928 - val_loss: 0.4545 - val_Accuracy: 0.8108\n",
      "Epoch 80/150\n",
      "7/7 [==============================] - 0s 42ms/step - loss: 0.4464 - Accuracy: 0.8063 - val_loss: 0.4526 - val_Accuracy: 0.8108\n",
      "Epoch 81/150\n",
      "7/7 [==============================] - 0s 33ms/step - loss: 0.4338 - Accuracy: 0.8153 - val_loss: 0.4535 - val_Accuracy: 0.8108\n",
      "Epoch 82/150\n",
      "7/7 [==============================] - 0s 31ms/step - loss: 0.4312 - Accuracy: 0.8198 - val_loss: 0.4527 - val_Accuracy: 0.8108\n",
      "Epoch 83/150\n",
      "7/7 [==============================] - 0s 35ms/step - loss: 0.4391 - Accuracy: 0.8108 - val_loss: 0.4564 - val_Accuracy: 0.7973\n",
      "Epoch 84/150\n",
      "7/7 [==============================] - 0s 25ms/step - loss: 0.4180 - Accuracy: 0.7973 - val_loss: 0.4524 - val_Accuracy: 0.7973\n",
      "Epoch 85/150\n",
      "7/7 [==============================] - 0s 29ms/step - loss: 0.4143 - Accuracy: 0.8514 - val_loss: 0.4469 - val_Accuracy: 0.8108\n",
      "Epoch 86/150\n",
      "7/7 [==============================] - 0s 34ms/step - loss: 0.4167 - Accuracy: 0.8153 - val_loss: 0.4448 - val_Accuracy: 0.7973\n",
      "Epoch 87/150\n",
      "7/7 [==============================] - 0s 36ms/step - loss: 0.4272 - Accuracy: 0.8063 - val_loss: 0.4486 - val_Accuracy: 0.8108\n",
      "Epoch 88/150\n",
      "7/7 [==============================] - 0s 27ms/step - loss: 0.4093 - Accuracy: 0.8288 - val_loss: 0.4534 - val_Accuracy: 0.7973\n",
      "Epoch 89/150\n",
      "7/7 [==============================] - 0s 21ms/step - loss: 0.4223 - Accuracy: 0.8063 - val_loss: 0.4579 - val_Accuracy: 0.7973\n",
      "Epoch 90/150\n",
      "7/7 [==============================] - 0s 21ms/step - loss: 0.4137 - Accuracy: 0.8288 - val_loss: 0.4545 - val_Accuracy: 0.7973\n",
      "Epoch 91/150\n",
      "7/7 [==============================] - 0s 22ms/step - loss: 0.4398 - Accuracy: 0.7973 - val_loss: 0.4516 - val_Accuracy: 0.7973\n",
      "Epoch 92/150\n",
      "7/7 [==============================] - 0s 19ms/step - loss: 0.4133 - Accuracy: 0.8243 - val_loss: 0.4489 - val_Accuracy: 0.7973\n",
      "Epoch 93/150\n",
      "7/7 [==============================] - 0s 31ms/step - loss: 0.4149 - Accuracy: 0.8333 - val_loss: 0.4456 - val_Accuracy: 0.8243\n",
      "Epoch 94/150\n",
      "7/7 [==============================] - 0s 31ms/step - loss: 0.4198 - Accuracy: 0.8288 - val_loss: 0.4430 - val_Accuracy: 0.8243\n",
      "Epoch 95/150\n",
      "7/7 [==============================] - 0s 23ms/step - loss: 0.4042 - Accuracy: 0.8198 - val_loss: 0.4470 - val_Accuracy: 0.8243\n",
      "Epoch 96/150\n",
      "7/7 [==============================] - 0s 26ms/step - loss: 0.4304 - Accuracy: 0.8018 - val_loss: 0.4512 - val_Accuracy: 0.7973\n",
      "Epoch 97/150\n",
      "7/7 [==============================] - 0s 38ms/step - loss: 0.4129 - Accuracy: 0.8018 - val_loss: 0.4529 - val_Accuracy: 0.7973\n",
      "Epoch 98/150\n",
      "7/7 [==============================] - 0s 31ms/step - loss: 0.4584 - Accuracy: 0.7838 - val_loss: 0.4520 - val_Accuracy: 0.7973\n",
      "Epoch 99/150\n",
      "7/7 [==============================] - 0s 36ms/step - loss: 0.3792 - Accuracy: 0.8288 - val_loss: 0.4459 - val_Accuracy: 0.8243\n",
      "Epoch 100/150\n",
      "7/7 [==============================] - 0s 36ms/step - loss: 0.4031 - Accuracy: 0.8423 - val_loss: 0.4457 - val_Accuracy: 0.8243\n",
      "Epoch 101/150\n",
      "7/7 [==============================] - 0s 28ms/step - loss: 0.4041 - Accuracy: 0.8378 - val_loss: 0.4497 - val_Accuracy: 0.8108\n",
      "Epoch 102/150\n",
      "7/7 [==============================] - 0s 20ms/step - loss: 0.3785 - Accuracy: 0.8288 - val_loss: 0.4531 - val_Accuracy: 0.7973\n",
      "Epoch 103/150\n",
      "7/7 [==============================] - 0s 18ms/step - loss: 0.3584 - Accuracy: 0.8604 - val_loss: 0.4542 - val_Accuracy: 0.8108\n",
      "Epoch 104/150\n",
      "7/7 [==============================] - 0s 18ms/step - loss: 0.4197 - Accuracy: 0.8378 - val_loss: 0.4545 - val_Accuracy: 0.8108\n",
      "Epoch 105/150\n",
      "7/7 [==============================] - 0s 17ms/step - loss: 0.4176 - Accuracy: 0.8288 - val_loss: 0.4542 - val_Accuracy: 0.8108\n",
      "Epoch 106/150\n",
      "7/7 [==============================] - 0s 18ms/step - loss: 0.4079 - Accuracy: 0.8153 - val_loss: 0.4528 - val_Accuracy: 0.8108\n",
      "Epoch 107/150\n",
      "7/7 [==============================] - 0s 22ms/step - loss: 0.4150 - Accuracy: 0.8423 - val_loss: 0.4479 - val_Accuracy: 0.8243\n",
      "Epoch 108/150\n",
      "7/7 [==============================] - 0s 18ms/step - loss: 0.4072 - Accuracy: 0.8153 - val_loss: 0.4472 - val_Accuracy: 0.8243\n",
      "Epoch 109/150\n",
      "7/7 [==============================] - 0s 21ms/step - loss: 0.3809 - Accuracy: 0.8423 - val_loss: 0.4481 - val_Accuracy: 0.8243\n",
      "Epoch 110/150\n",
      "7/7 [==============================] - 0s 20ms/step - loss: 0.4125 - Accuracy: 0.8198 - val_loss: 0.4472 - val_Accuracy: 0.8243\n",
      "Epoch 111/150\n",
      "7/7 [==============================] - 0s 21ms/step - loss: 0.4144 - Accuracy: 0.8153 - val_loss: 0.4506 - val_Accuracy: 0.8243\n",
      "Epoch 112/150\n",
      "7/7 [==============================] - 0s 19ms/step - loss: 0.3727 - Accuracy: 0.8468 - val_loss: 0.4532 - val_Accuracy: 0.8108\n",
      "Epoch 113/150\n",
      "7/7 [==============================] - 0s 19ms/step - loss: 0.4227 - Accuracy: 0.8153 - val_loss: 0.4515 - val_Accuracy: 0.8108\n",
      "Epoch 114/150\n",
      "7/7 [==============================] - 0s 20ms/step - loss: 0.4256 - Accuracy: 0.8288 - val_loss: 0.4474 - val_Accuracy: 0.8108\n",
      "Epoch 114: early stopping\n"
     ]
    }
   ],
   "source": [
    "history = model.fit(X_train, y_train,validation_data=(X_test,y_test), batch_size = 32, epochs = 150, callbacks =[earlystopping])"
   ]
  },
  {
   "cell_type": "markdown",
   "id": "a9bda263",
   "metadata": {},
   "source": [
    "# Evaluation"
   ]
  },
  {
   "cell_type": "code",
   "execution_count": 28,
   "id": "b261ac11",
   "metadata": {},
   "outputs": [],
   "source": [
    "from matplotlib import pyplot as pp"
   ]
  },
  {
   "cell_type": "code",
   "execution_count": 29,
   "id": "ced59cce",
   "metadata": {},
   "outputs": [
    {
     "data": {
      "image/png": "[encoded data removed]",
      "text/plain": [
       "<Figure size 432x288 with 1 Axes>"
      ]
     },
     "metadata": {
      "needs_background": "light"
     },
     "output_type": "display_data"
    }
   ],
   "source": [
    "pp.title('learning curive :: loss')\n",
    "pp.xlabel('Epoch')\n",
    "pp.ylabel('cross Entropy')\n",
    "pp.plot(history.history['loss'],label=\"train\")\n",
    "pp.plot(history.history['val_loss'],label=\"validation\")\n",
    "pp.legend()\n",
    "pp.show()"
   ]
  },
  {
   "cell_type": "code",
   "execution_count": 30,
   "id": "f032b44d",
   "metadata": {},
   "outputs": [
    {
     "data": {
      "image/png": "[encoded data removed]",
      "text/plain": [
       "<Figure size 432x288 with 1 Axes>"
      ]
     },
     "metadata": {
      "needs_background": "light"
     },
     "output_type": "display_data"
    }
   ],
   "source": [
    "pp.title('learning curive :: loss')\n",
    "pp.xlabel('Epoch')\n",
    "pp.ylabel('performance')\n",
    "pp.plot(history.history['Accuracy'],label=\"train\")\n",
    "pp.plot(history.history['val_Accuracy'],label=\"validation\")\n",
    "pp.legend()\n",
    "pp.show()"
   ]
  },
  {
   "cell_type": "code",
   "execution_count": 45,
   "id": "dcdffb4c",
   "metadata": {},
   "outputs": [
    {
     "name": "stdout",
     "output_type": "stream",
     "text": [
      "3/3 [==============================] - 0s 7ms/step\n"
     ]
    }
   ],
   "source": [
    "y_pred = (model.predict(X_test)>0.5)"
   ]
  },
  {
   "cell_type": "code",
   "execution_count": 46,
   "id": "a250e123",
   "metadata": {},
   "outputs": [
    {
     "name": "stdout",
     "output_type": "stream",
     "text": [
      "81.08 %\n"
     ]
    }
   ],
   "source": [
    "from sklearn.metrics import accuracy_score\n",
    "\n",
    "model_acc = round(accuracy_score(y_pred,y_test) * 100, 2)\n",
    "print(model_acc,'%')"
   ]
  },
  {
   "cell_type": "code",
   "execution_count": 33,
   "id": "5c5dfd9f",
   "metadata": {},
   "outputs": [],
   "source": [
    "#thanks"
   ]
  }
 ],
 "metadata": {
  "kernelspec": {
   "display_name": "Python 3 (ipykernel)",
   "language": "python",
   "name": "python3"
  },
  "language_info": {
   "codemirror_mode": {
    "name": "ipython",
    "version": 3
   },
   "file_extension": ".py",
   "mimetype": "text/x-python",
   "name": "python",
   "nbconvert_exporter": "python",
   "pygments_lexer": "ipython3",
   "version": "3.9.7"
  }
 },
 "nbformat": 4,
 "nbformat_minor": 5
}
